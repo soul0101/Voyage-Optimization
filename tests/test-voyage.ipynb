{
 "cells": [
  {
   "cell_type": "code",
   "execution_count": 57,
   "metadata": {},
   "outputs": [
    {
     "data": {
      "text/html": [
       "<pre style=\"white-space:pre;overflow-x:auto;line-height:normal;font-family:Menlo,'DejaVu Sans Mono',consolas,'Courier New',monospace\"><span style=\"color: #7fbfbf; text-decoration-color: #7fbfbf\">[00:54:03] </span><span style=\"color: #000080; text-decoration-color: #000080\">INFO    </span> Calling <span style=\"color: #0000ff; text-decoration-color: #0000ff; text-decoration: underline\">https://app.daisi.io/pebble-api/daisies/connect?name=soul0101/Voyage</span>     <a href=\"file://c:\\Users\\91983\\anaconda3\\envs\\face\\lib\\site-packages\\pydaisi\\pydaisi.py\" target=\"_blank\"><span style=\"color: #7f7f7f; text-decoration-color: #7f7f7f\">pydaisi.py</span></a><span style=\"color: #7f7f7f; text-decoration-color: #7f7f7f\">:</span><a href=\"file://c:\\Users\\91983\\anaconda3\\envs\\face\\lib\\site-packages\\pydaisi\\pydaisi.py#411\" target=\"_blank\"><span style=\"color: #7f7f7f; text-decoration-color: #7f7f7f\">411</span></a>\n",
       "<span style=\"color: #7fbfbf; text-decoration-color: #7fbfbf\">           </span>         Optimization                                                                     <span style=\"color: #7f7f7f; text-decoration-color: #7f7f7f\">              </span>\n",
       "</pre>\n"
      ],
      "text/plain": [
       "\u001b[2;36m[00:54:03]\u001b[0m\u001b[2;36m \u001b[0m\u001b[34mINFO    \u001b[0m Calling \u001b[4;94mhttps://app.daisi.io/pebble-api/daisies/connect?\u001b[0m\u001b[4;94mname\u001b[0m\u001b[4;94m=\u001b[0m\u001b[4;94msoul0101\u001b[0m\u001b[4;94m/Voyage\u001b[0m     \u001b]8;id=606281;file://c:\\Users\\91983\\anaconda3\\envs\\face\\lib\\site-packages\\pydaisi\\pydaisi.py\u001b\\\u001b[2mpydaisi.py\u001b[0m\u001b]8;;\u001b\\\u001b[2m:\u001b[0m\u001b]8;id=740619;file://c:\\Users\\91983\\anaconda3\\envs\\face\\lib\\site-packages\\pydaisi\\pydaisi.py#411\u001b\\\u001b[2m411\u001b[0m\u001b]8;;\u001b\\\n",
       "\u001b[2;36m           \u001b[0m         Optimization                                                                     \u001b[2m              \u001b[0m\n"
      ]
     },
     "metadata": {},
     "output_type": "display_data"
    },
    {
     "data": {
      "text/html": [
       "<pre style=\"white-space:pre;overflow-x:auto;line-height:normal;font-family:Menlo,'DejaVu Sans Mono',consolas,'Courier New',monospace\"><span style=\"color: #7fbfbf; text-decoration-color: #7fbfbf\">[00:54:05] </span><span style=\"color: #000080; text-decoration-color: #000080\">INFO    </span> Found existing Daisi: <span style=\"color: #ffff00; text-decoration-color: #ffff00\">b22516f2-d346-497d-99fd-e1e1925e0bdc</span>                       <a href=\"file://c:\\Users\\91983\\anaconda3\\envs\\face\\lib\\site-packages\\pydaisi\\pydaisi.py\" target=\"_blank\"><span style=\"color: #7f7f7f; text-decoration-color: #7f7f7f\">pydaisi.py</span></a><span style=\"color: #7f7f7f; text-decoration-color: #7f7f7f\">:</span><a href=\"file://c:\\Users\\91983\\anaconda3\\envs\\face\\lib\\site-packages\\pydaisi\\pydaisi.py#424\" target=\"_blank\"><span style=\"color: #7f7f7f; text-decoration-color: #7f7f7f\">424</span></a>\n",
       "</pre>\n"
      ],
      "text/plain": [
       "\u001b[2;36m[00:54:05]\u001b[0m\u001b[2;36m \u001b[0m\u001b[34mINFO    \u001b[0m Found existing Daisi: \u001b[93mb22516f2-d346-497d-99fd-e1e1925e0bdc\u001b[0m                       \u001b]8;id=899645;file://c:\\Users\\91983\\anaconda3\\envs\\face\\lib\\site-packages\\pydaisi\\pydaisi.py\u001b\\\u001b[2mpydaisi.py\u001b[0m\u001b]8;;\u001b\\\u001b[2m:\u001b[0m\u001b]8;id=686076;file://c:\\Users\\91983\\anaconda3\\envs\\face\\lib\\site-packages\\pydaisi\\pydaisi.py#424\u001b\\\u001b[2m424\u001b[0m\u001b]8;;\u001b\\\n"
      ]
     },
     "metadata": {},
     "output_type": "display_data"
    }
   ],
   "source": [
    "import pickle\n",
    "import numpy as np\n",
    "import pydaisi as pyd\n",
    "import igraph as graph\n",
    "\n",
    "voyage_optimization = pyd.Daisi(\"soul0101/Voyage Optimization\")"
   ]
  },
  {
   "cell_type": "code",
   "execution_count": 58,
   "metadata": {},
   "outputs": [],
   "source": [
    "start_coord = (14.37, 89.45)\n",
    "end_coord = (32.64, -18.90)\n",
    "boat_avg_speed = 1.0"
   ]
  },
  {
   "cell_type": "code",
   "execution_count": 59,
   "metadata": {},
   "outputs": [],
   "source": [
    "lon_pre, lat_pre, U_pre, V_pre = voyage_optimization.get_ocean_current_dataset().value\n",
    "\n",
    "with open('./result/lon_pre.pkl', 'rb') as handle:\n",
    "    gold_lon_pre = pickle.load(handle)\n",
    "with open('./result/lat_pre.pkl', 'rb') as handle:\n",
    "    gold_lat_pre = pickle.load(handle) \n",
    "with open('./result/U_pre.pkl', 'rb') as handle:\n",
    "    gold_U_pre = pickle.load(handle)\n",
    "with open('./result/V_pre.pkl', 'rb') as handle:\n",
    "    gold_V_pre = pickle.load(handle)\n",
    "\n",
    "assert(np.array_equal(np.array(gold_lon_pre), np.array(lon_pre), equal_nan=True))\n",
    "assert(np.array_equal(np.array(gold_lat_pre), np.array(lat_pre), equal_nan=True))\n",
    "assert(np.array_equal(np.array(gold_U_pre), np.array(U_pre), equal_nan=True))\n",
    "assert(np.array_equal(np.array(gold_V_pre), np.array(V_pre), equal_nan=True))"
   ]
  },
  {
   "cell_type": "code",
   "execution_count": 60,
   "metadata": {},
   "outputs": [],
   "source": [
    "lon_post, lat_post, U_post, V_post = voyage_optimization.process_ds(lon_pre, lat_pre, U_pre, V_pre).value\n",
    "\n",
    "with open('./result/lon_post.pkl', 'rb') as handle:\n",
    "    gold_lon_post = pickle.load(handle)\n",
    "with open('./result/lat_post.pkl', 'rb') as handle:\n",
    "    gold_lat_post = pickle.load(handle) \n",
    "with open('./result/U_post.pkl', 'rb') as handle:\n",
    "    gold_U_post = pickle.load(handle)\n",
    "with open('./result/V_post.pkl', 'rb') as handle:\n",
    "    gold_V_post = pickle.load(handle)\n",
    "\n",
    "assert(np.array_equal(np.array(gold_lon_post), np.array(lon_post), equal_nan=True))\n",
    "assert(np.array_equal(np.array(gold_lat_post), np.array(lat_post), equal_nan=True))\n",
    "assert(np.array_equal(np.array(gold_U_post), np.array(U_post), equal_nan=True))\n",
    "assert(np.array_equal(np.array(gold_V_post), np.array(V_post), equal_nan=True))"
   ]
  },
  {
   "cell_type": "code",
   "execution_count": 61,
   "metadata": {},
   "outputs": [],
   "source": [
    "G = voyage_optimization.graph_factory(lon_post, lat_post, U_post, V_post, boat_avg_speed).value\n",
    "\n",
    "with open('./result/graph.pkl', 'rb') as handle:\n",
    "    gold_G = pickle.load(handle)\n",
    "\n",
    "inter = graph.intersection([G, gold_G])\n",
    "assert G.ecount() + gold_G.ecount() - 2 * inter.ecount() == 0"
   ]
  },
  {
   "cell_type": "code",
   "execution_count": 62,
   "metadata": {},
   "outputs": [],
   "source": [
    "path = voyage_optimization.get_optimal_routes(G, start_coord, end_coord, lon_post, lat_post).value\n",
    "\n",
    "with open('./result/path.pkl', 'rb') as handle:\n",
    "    gold_path = pickle.load(handle)\n",
    "\n",
    "assert np.array_equal(np.array(path), np.array(gold_path))"
   ]
  },
  {
   "cell_type": "code",
   "execution_count": 63,
   "metadata": {},
   "outputs": [],
   "source": [
    "xx, yy = voyage_optimization.get_coordinates_from_path_indices(path, lon_post, lat_post).value\n",
    "\n",
    "with open('./result/xx.pkl', 'rb') as handle:\n",
    "    gold_xx = pickle.load(handle)\n",
    "with open('./result/yy.pkl', 'rb') as handle:\n",
    "    gold_yy = pickle.load(handle)\n",
    "\n",
    "assert np.array_equal(np.array(xx), np.array(gold_xx))\n",
    "assert np.array_equal(np.array(yy), np.array(gold_yy))"
   ]
  }
 ],
 "metadata": {
  "kernelspec": {
   "display_name": "Python 3.9.1 ('face')",
   "language": "python",
   "name": "python3"
  },
  "language_info": {
   "codemirror_mode": {
    "name": "ipython",
    "version": 3
   },
   "file_extension": ".py",
   "mimetype": "text/x-python",
   "name": "python",
   "nbconvert_exporter": "python",
   "pygments_lexer": "ipython3",
   "version": "3.9.1"
  },
  "orig_nbformat": 4,
  "vscode": {
   "interpreter": {
    "hash": "0015dbe0128247db5ee375288c307af905a456c2f7f82485d02b896432d2a5fb"
   }
  }
 },
 "nbformat": 4,
 "nbformat_minor": 2
}
